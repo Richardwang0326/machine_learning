{
 "cells": [
  {
   "cell_type": "code",
   "execution_count": 7,
   "metadata": {},
   "outputs": [
    {
     "name": "stdout",
     "output_type": "stream",
     "text": [
      "[[-20.36074909]\n",
      " [  6.22969029]\n",
      " [ -0.30458532]]\n"
     ]
    }
   ],
   "source": [
    "# library\n",
    "import csv\n",
    "import numpy as np\n",
    "\n",
    "lnchprg = []\n",
    "math10 = []\n",
    "lexpend = []\n",
    "\n",
    "# load csv file\n",
    "with open ('MEAP93.csv', newline='') as csvfile:\n",
    "    \n",
    "    # stored as dict\n",
    "    rows = csv.DictReader(csvfile)\n",
    "    \n",
    "    # load required data\n",
    "    for row in rows:\n",
    "        lnchprg.append((float)(row['lnchprg']))\n",
    "        math10.append((float)(row['math10']))\n",
    "        lexpend.append((float)(row['lexpend']))\n",
    "\n",
    "# prepared parameter\n",
    "y = (np.array(math10)).reshape(-1, 1)\n",
    "x = np.zeros((len(lnchprg),3))\n",
    "for i in range(len(lnchprg)):\n",
    "    x[i,0] = 1\n",
    "    x[i,1] = lexpend[i]\n",
    "    x[i,2] = lnchprg[i]\n",
    "    \n",
    "# calculate beta\n",
    "beta = np.dot(np.dot(np.linalg.inv(np.dot(x.T,x)),x.T),y)  #(x^T*x)^(-1)*x^T*y\n",
    "print(beta)"
   ]
  },
  {
   "cell_type": "code",
   "execution_count": 14,
   "metadata": {},
   "outputs": [
    {
     "name": "stdout",
     "output_type": "stream",
     "text": [
      "0.17992707719320056\n"
     ]
    }
   ],
   "source": [
    "# calculate coefficient of determination\n",
    "\n",
    "# calculate SS_tot\n",
    "SS_tot = np.var(np.array(math10))*len(math10)\n",
    "\n",
    "# calculate SS_res\n",
    "x1 = np.array(lexpend)\n",
    "x2 = np.array(lnchprg)\n",
    "formula = (\"beta[0]+beta[1]*x1+beta[2]*x2\")\n",
    "y = eval(formula)\n",
    "SS_res = 0\n",
    "for i in range(len(math10)):\n",
    "    SS_res += (math10[i]-y[i])**2\n",
    "    \n",
    "# print R^2\n",
    "print(1-SS_res/SS_tot)"
   ]
  },
  {
   "cell_type": "code",
   "execution_count": null,
   "metadata": {},
   "outputs": [],
   "source": []
  }
 ],
 "metadata": {
  "kernelspec": {
   "display_name": "Python 3",
   "language": "python",
   "name": "python3"
  },
  "language_info": {
   "codemirror_mode": {
    "name": "ipython",
    "version": 3
   },
   "file_extension": ".py",
   "mimetype": "text/x-python",
   "name": "python",
   "nbconvert_exporter": "python",
   "pygments_lexer": "ipython3",
   "version": "3.7.6"
  }
 },
 "nbformat": 4,
 "nbformat_minor": 4
}
