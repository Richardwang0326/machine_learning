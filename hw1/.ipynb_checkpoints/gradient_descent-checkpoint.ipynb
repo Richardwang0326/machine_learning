{
 "cells": [
  {
   "cell_type": "code",
   "execution_count": 2,
   "metadata": {},
   "outputs": [
    {
     "data": {
      "text/plain": [
       "<matplotlib.collections.PathCollection at 0x2840d596d88>"
      ]
     },
     "execution_count": 2,
     "metadata": {},
     "output_type": "execute_result"
    },
    {
     "data": {
      "image/png": "[encoded data removed]",
      "text/plain": [
       "<Figure size 432x288 with 1 Axes>"
      ]
     },
     "metadata": {
      "needs_background": "light"
     },
     "output_type": "display_data"
    }
   ],
   "source": [
    "import numpy as np\n",
    "import matplotlib.pyplot as plt\n",
    "rng = np.random.RandomState(2)\n",
    "x = 10 * rng.rand(50)\n",
    "y = 2 * x -5 + rng.rand(50)*15\n",
    "\n",
    "plt.scatter(x, y)"
   ]
  },
  {
   "cell_type": "code",
   "execution_count": 3,
   "metadata": {},
   "outputs": [],
   "source": [
    "def gradient(x, y, estimated, learning_rate, error):\n",
    "    \n",
    "    k=0\n",
    "    error_initial = 1\n",
    "    \n",
    "    while (error_initial > error):\n",
    "        \n",
    "        k += 1 \n",
    "        y_predicted = np.dot(x, estimated)\n",
    "        errors =  y_predicted - y\n",
    "        gradients = 2 * np.dot(x.T, errors) \n",
    "        origin = estimated\n",
    "        estimated = estimated - gradients * learning_rate\n",
    "        loss = np.sum(errors ** 2, axis = 0)\n",
    "        error_initial = np.sqrt(np.sum((origin - estimated) ** 2 , axis = 0))\n",
    "        \n",
    "    return estimated, k, loss"
   ]
  },
  {
   "cell_type": "code",
   "execution_count": 14,
   "metadata": {},
   "outputs": [
    {
     "name": "stdout",
     "output_type": "stream",
     "text": [
      "estimated value= [[1.05018149]\n",
      " [2.2096506 ]]\n",
      "iteration= 2654, loss=[898.52519756]\n",
      "\n",
      "y_predict= [[1.04973423]\n",
      " [2.20972756]]\n"
     ]
    }
   ],
   "source": [
    "if __name__==\"__main__\":    \n",
    "    \n",
    "    initial = np.array([1,1],dtype = float).reshape(-1,1)\n",
    "    x_actual = np.concatenate((np.ones((x.shape[0],1)),x[:,np.newaxis]),axis=1)\n",
    "    y_actual = y[:,np.newaxis]\n",
    "    \n",
    "    estimated, iteration, loss = gradient(x_actual, y_actual, initial, 10 ** (-4), 1 * 10 ** (-6))\n",
    "\n",
    "    print(\"estimated value= {0}\".format(estimated))\n",
    "    print(\"iteration= {0}, loss={1}\\n\".format(iteration,loss))\n",
    "    \n",
    "    y_predict = np.dot(np.dot(np.linalg.inv(np.dot(x_actual.T,x_actual)),x_actual.T),y_actual)  #(x^T*x)^(-1)*x^T*y\n",
    "    print(\"y_predict= {0}\".format(y_predict))"
   ]
  },
  {
   "cell_type": "code",
   "execution_count": null,
   "metadata": {},
   "outputs": [],
   "source": []
  },
  {
   "cell_type": "code",
   "execution_count": null,
   "metadata": {},
   "outputs": [],
   "source": []
  },
  {
   "cell_type": "code",
   "execution_count": null,
   "metadata": {},
   "outputs": [],
   "source": []
  }
 ],
 "metadata": {
  "kernelspec": {
   "display_name": "Python 3",
   "language": "python",
   "name": "python3"
  },
  "language_info": {
   "codemirror_mode": {
    "name": "ipython",
    "version": 3
   },
   "file_extension": ".py",
   "mimetype": "text/x-python",
   "name": "python",
   "nbconvert_exporter": "python",
   "pygments_lexer": "ipython3",
   "version": "3.7.6"
  }
 },
 "nbformat": 4,
 "nbformat_minor": 4
}
