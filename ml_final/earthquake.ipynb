{
 "cells": [
  {
   "cell_type": "code",
   "execution_count": 3,
   "metadata": {},
   "outputs": [
    {
     "data": {
      "text/plain": [
       "[<matplotlib.lines.Line2D at 0x7f11405dc240>]"
      ]
     },
     "execution_count": 3,
     "metadata": {},
     "output_type": "execute_result"
    },
    {
     "data": {
      "image/png": "[encoded data removed]",
      "text/plain": [
       "<Figure size 432x288 with 1 Axes>"
      ]
     },
     "metadata": {
      "needs_background": "light"
     },
     "output_type": "display_data"
    }
   ],
   "source": [
    "import pandas as pd #to create table in python\n",
    "import numpy as np  #for array processing\n",
    "from datetime import date as dt\n",
    "import re\n",
    "from matplotlib import pyplot as plt#for nice plots\n",
    "sizexpixel=0.1 #maximum 4.163\n",
    "sizeypixel=0.1 #maximum 3.222\n",
    "numberxpixel=int(np.floor(4.163/sizexpixel)) \n",
    "numberypixel=int(np.floor(3.222/sizeypixel))\n",
    "startlatitude=21.412\n",
    "startlongitude=119.337\n",
    "\n",
    "def togrid(data):\n",
    "    length=np.size(data.loc[:,['time']])\n",
    "    #print(length)\n",
    "    start=re.findall(\"\\d+\", data.iloc[0,0])\n",
    "    #print(start)\n",
    "    end=re.findall(\"\\d+\", data.iloc[length-1,0])\n",
    "    startdate=dt(int(start[0]),int(start[1]),int(start[2]))\n",
    "    #print(startdate)\n",
    "    enddate=dt(int(end[0]),int(end[1]),int(end[2]))\n",
    "    #print(enddate)\n",
    "    delta=startdate-enddate\n",
    "    #print(delta.days)\n",
    "    datagrid2D=np.zeros((delta.days+1,int((numberxpixel+1)*(numberypixel+1))))\n",
    "    datagrid3D=np.zeros((delta.days+1,int((numberxpixel+1)*(numberypixel+1)), 14))\n",
    "    #print((numberxpixel+1)*(numberypixel+1))\n",
    "    for i in range(length):\n",
    "        dayx=re.findall(\"\\d+\", data.iloc[i,0])\n",
    "        day=dt(int(dayx[0]), int(dayx[1]), int(dayx[2]))\n",
    "        latitude=np.floor((data.iloc[i,1]-startlatitude)/sizexpixel)\n",
    "        longitude=np.floor((data.iloc[i,2]-startlongitude)/sizeypixel)\n",
    "        datagrid2D[int((startdate-day).days),int(((latitude-1)*(numberypixel))+longitude)]=1\n",
    "    return datagrid2D#,datagrid3D\n",
    "train=pd.read_csv('train.csv') #import the csv file in a table\n",
    "test=pd.read_csv('test.csv')\n",
    "#print(test.keys())\n",
    "bild=togrid(train)\n",
    "plt.plot(bild[4,:])"
   ]
  },
  {
   "cell_type": "code",
   "execution_count": null,
   "metadata": {},
   "outputs": [],
   "source": []
  },
  {
   "cell_type": "code",
   "execution_count": null,
   "metadata": {},
   "outputs": [],
   "source": []
  }
 ],
 "metadata": {
  "kernelspec": {
   "display_name": "Python 3",
   "language": "python",
   "name": "python3"
  },
  "language_info": {
   "codemirror_mode": {
    "name": "ipython",
    "version": 3
   },
   "file_extension": ".py",
   "mimetype": "text/x-python",
   "name": "python",
   "nbconvert_exporter": "python",
   "pygments_lexer": "ipython3",
   "version": "3.6.9"
  }
 },
 "nbformat": 4,
 "nbformat_minor": 4
}
