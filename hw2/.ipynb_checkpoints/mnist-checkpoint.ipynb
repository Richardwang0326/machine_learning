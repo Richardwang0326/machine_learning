{
 "cells": [
  {
   "cell_type": "code",
   "execution_count": 6,
   "metadata": {},
   "outputs": [
    {
     "name": "stdout",
     "output_type": "stream",
     "text": [
      "2.1.0\n"
     ]
    }
   ],
   "source": [
    "# library\n",
    "import pandas as pd\n",
    "import numpy as np\n",
    "import matplotlib.pyplot as plt\n",
    "from collections import Counter\n",
    "import tensorflow.compat.v1 as tf\n",
    "tf.disable_v2_behavior()\n",
    "\n",
    "print(tf.__version__)"
   ]
  },
  {
   "cell_type": "code",
   "execution_count": 7,
   "metadata": {},
   "outputs": [],
   "source": [
    "# loading data\n",
    "def loadMNIST():\n",
    "    from tensorflow.examples.tutorials.mnist import input_data\n",
    "    mnist = input_data.read_data_sets(\"MNIST_data/\")\n",
    "    return mnist"
   ]
  },
  {
   "cell_type": "code",
   "execution_count": 8,
   "metadata": {},
   "outputs": [],
   "source": [
    "# KNN model\n",
    "def KNN(mnist,  train_batch, test_batch, k):\n",
    "    \n",
    "    # split train and test data\n",
    "    train_image, train_label = mnist.train.next_batch(train_batch)\n",
    "    test_image, test_label = mnist.test.next_batch(test_batch)\n",
    "\n",
    "    # declare required input, output and computation\n",
    "    X = tf.placeholder(dtype=tf.float32, shape=[None, 784])\n",
    "    Y = tf.placeholder(dtype=tf.float32, shape=[784])\n",
    "\n",
    "    distance = tf.reduce_sum(tf.sqrt(tf.pow(X-Y, 2)), axis=1)\n",
    "    sorted_distance = tf.sort(distance,direction = \"ASCENDING\")\n",
    "    top_k = tf.slice(sorted_distance, begin=[0], size=[k])\n",
    "\n",
    "    init_op = [tf.global_variables_initializer()]\n",
    "    prediction = []\n",
    "    \n",
    "    with tf.Session() as sess:\n",
    "        sess.run(init_op)\n",
    "        \n",
    "        for i in range(len(test_image)):\n",
    "            dist, min_k_dist = sess.run([distance, top_k], feed_dict={\n",
    "                X: train_image,\n",
    "                Y: test_image[i]\n",
    "            })\n",
    "            idx = [dist.tolist().index(i) for i in min_k_dist]\n",
    "            counter = Counter(train_label[idx])\n",
    "            prediction.append({\n",
    "                'prediction': counter.most_common(1)[0][0], \n",
    "                'label': test_label[i]})\n",
    "    df = pd.DataFrame(prediction)\n",
    "    accuracy = (len(df) - len(df[df.iloc[:, 0] != df.iloc[:, 1]])) / len(df)\n",
    "    return accuracy"
   ]
  },
  {
   "cell_type": "code",
   "execution_count": null,
   "metadata": {},
   "outputs": [
    {
     "name": "stdout",
     "output_type": "stream",
     "text": [
      "Extracting MNIST_data/train-images-idx3-ubyte.gz\n",
      "Extracting MNIST_data/train-labels-idx1-ubyte.gz\n",
      "Extracting MNIST_data/t10k-images-idx3-ubyte.gz\n",
      "Extracting MNIST_data/t10k-labels-idx1-ubyte.gz\n",
      "K = 1, accuracy = 0.9616\n",
      "\n",
      "K = 3, accuracy = 0.9635\n",
      "\n"
     ]
    }
   ],
   "source": [
    "if __name__ == \"__main__\":\n",
    "    \n",
    "    mnist = loadMNIST()\n",
    "    \n",
    "    train_image = mnist.train.images\n",
    "    train_label = mnist.train.labels\n",
    "    image = np.reshape(train_image[0,:],(28,28))\n",
    "    label = train_label[0]\n",
    "    plt.matshow(image, cmap = plt.get_cmap(\"gray\"))\n",
    "    plt.title(\"This train data label is %d\\n\" %(label))\n",
    "    \n",
    "    for i in range(1,10,2):\n",
    "        accuracy = KNN(mnist, train_batch = 55000, test_batch = 10000, k = i)\n",
    "        print(\"K = %d, accuracy = %.4f\\n\" %(i, accuracy))\n",
    "    "
   ]
  },
  {
   "cell_type": "code",
   "execution_count": null,
   "metadata": {},
   "outputs": [],
   "source": []
  },
  {
   "cell_type": "code",
   "execution_count": null,
   "metadata": {},
   "outputs": [],
   "source": []
  }
 ],
 "metadata": {
  "kernelspec": {
   "display_name": "Python [conda env:machine_learning]",
   "language": "python",
   "name": "conda-env-machine_learning-py"
  },
  "language_info": {
   "codemirror_mode": {
    "name": "ipython",
    "version": 3
   },
   "file_extension": ".py",
   "mimetype": "text/x-python",
   "name": "python",
   "nbconvert_exporter": "python",
   "pygments_lexer": "ipython3",
   "version": "3.7.7"
  }
 },
 "nbformat": 4,
 "nbformat_minor": 4
}
