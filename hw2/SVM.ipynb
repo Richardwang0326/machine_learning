{
 "cells": [
  {
   "cell_type": "code",
   "execution_count": 9,
   "metadata": {},
   "outputs": [],
   "source": [
    "# library\n",
    "from sklearn import svm\n",
    "import numpy as np"
   ]
  },
  {
   "cell_type": "code",
   "execution_count": 10,
   "metadata": {},
   "outputs": [],
   "source": [
    "# loading data\n",
    "def loadMNIST():\n",
    "    from tensorflow.examples.tutorials.mnist import input_data\n",
    "    mnist = input_data.read_data_sets(\"MNIST_data/\")\n",
    "    return mnist"
   ]
  },
  {
   "cell_type": "code",
   "execution_count": 15,
   "metadata": {},
   "outputs": [],
   "source": [
    "def SVM(mnist, train_batch, test_batch):\n",
    "    \n",
    "    # split train and test data\n",
    "    train_image, train_label = mnist.train.next_batch(train_batch)\n",
    "    test_image, test_label = mnist.test.next_batch(test_batch)\n",
    "\n",
    "    # constract svm model\n",
    "    predictor = svm.SVC(gamma='scale', C=1.0, decision_function_shape='ovr', kernel='linear')\n",
    "    # training\n",
    "    predictor.fit(train_image[:train_batch], train_label[:train_batch])\n",
    "    # predict\n",
    "    result = predictor.predict(test_image[:test_batch])\n",
    "    # calculate performance\n",
    "    accurancy = np.sum(np.equal(result, test_label[:test_batch])) / test_batch\n",
    "    return accurancy"
   ]
  },
  {
   "cell_type": "code",
   "execution_count": 16,
   "metadata": {},
   "outputs": [
    {
     "name": "stdout",
     "output_type": "stream",
     "text": [
      "Extracting MNIST_data/train-images-idx3-ubyte.gz\n",
      "Extracting MNIST_data/train-labels-idx1-ubyte.gz\n",
      "Extracting MNIST_data/t10k-images-idx3-ubyte.gz\n",
      "Extracting MNIST_data/t10k-labels-idx1-ubyte.gz\n",
      "SVM accurancy : 0.9182\n"
     ]
    }
   ],
   "source": [
    "if __name__ == \"__main__\":\n",
    "    \n",
    "    mnist = loadMNIST()\n",
    "    accurancy = SVM(mnist, train_batch = 10000, test_batch = 5000)\n",
    "    print(\"SVM accurancy : {0}\".format(accurancy))"
   ]
  },
  {
   "cell_type": "code",
   "execution_count": null,
   "metadata": {},
   "outputs": [],
   "source": []
  }
 ],
 "metadata": {
  "kernelspec": {
   "display_name": "Python [conda env:machine_learning]",
   "language": "python",
   "name": "conda-env-machine_learning-py"
  },
  "language_info": {
   "codemirror_mode": {
    "name": "ipython",
    "version": 3
   },
   "file_extension": ".py",
   "mimetype": "text/x-python",
   "name": "python",
   "nbconvert_exporter": "python",
   "pygments_lexer": "ipython3",
   "version": "3.7.7"
  }
 },
 "nbformat": 4,
 "nbformat_minor": 4
}
