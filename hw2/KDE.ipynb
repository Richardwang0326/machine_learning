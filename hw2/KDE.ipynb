{
 "cells": [
  {
   "cell_type": "code",
   "execution_count": 1,
   "metadata": {},
   "outputs": [],
   "source": [
    "# library\n",
    "import numpy as np\n",
    "from sklearn.neighbors import KernelDensity"
   ]
  },
  {
   "cell_type": "code",
   "execution_count": 2,
   "metadata": {},
   "outputs": [],
   "source": [
    "# loading data\n",
    "def loadMNIST():\n",
    "    from tensorflow.examples.tutorials.mnist import input_data\n",
    "    mnist = input_data.read_data_sets(\"MNIST_data/\")\n",
    "    return mnist"
   ]
  },
  {
   "cell_type": "code",
   "execution_count": 3,
   "metadata": {},
   "outputs": [],
   "source": [
    "def KDE(mnist, train_batch, test_batch):\n",
    "    \n",
    "    # split training and testing data\n",
    "    train_image, train_label = mnist.train.next_batch(train_batch)\n",
    "    test_image, test_label = mnist.test.next_batch(test_batch)\n",
    "    \n",
    "    # classify different digit\n",
    "    digit = [[] for i in range(10)]\n",
    "    for i in range(train_batch):\n",
    "        digit[train_label[i]].append(train_image[i])\n",
    "    \n",
    "    # calculate kde\n",
    "    kde = [[] for i in range(10)]\n",
    "    for i in range(10):\n",
    "        kde[i] = KernelDensity().fit(digit[i])\n",
    "    \n",
    "    # using kde to classify testing data\n",
    "    result = []\n",
    "    for i in range(test_batch):\n",
    "        value = []\n",
    "        for j in range(10):\n",
    "            value.append(kde[j].score_samples([test_image[i]]))\n",
    "        result.append(np.argmax(value))\n",
    "    accuracy = np.sum(np.equal(result, test_label[:test_batch])) / test_batch\n",
    "    return accuracy"
   ]
  },
  {
   "cell_type": "code",
   "execution_count": 5,
   "metadata": {},
   "outputs": [
    {
     "name": "stdout",
     "output_type": "stream",
     "text": [
      "Extracting MNIST_data/train-images-idx3-ubyte.gz\n",
      "Extracting MNIST_data/train-labels-idx1-ubyte.gz\n",
      "Extracting MNIST_data/t10k-images-idx3-ubyte.gz\n",
      "Extracting MNIST_data/t10k-labels-idx1-ubyte.gz\n",
      "Kernel density estimation accuracy : 0.9436\n"
     ]
    }
   ],
   "source": [
    "if __name__ == \"__main__\":\n",
    "    \n",
    "    # load data\n",
    "    mnist = loadMNIST()\n",
    "\n",
    "    # kde classification\n",
    "    accuracy = KDE(mnist, train_batch = 10000, test_batch = 5000)\n",
    "    print(\"Kernel density estimation accuracy : {0}\".format(accuracy))"
   ]
  },
  {
   "cell_type": "code",
   "execution_count": null,
   "metadata": {},
   "outputs": [],
   "source": []
  }
 ],
 "metadata": {
  "kernelspec": {
   "display_name": "Python [conda env:machine_learning]",
   "language": "python",
   "name": "conda-env-machine_learning-py"
  },
  "language_info": {
   "codemirror_mode": {
    "name": "ipython",
    "version": 3
   },
   "file_extension": ".py",
   "mimetype": "text/x-python",
   "name": "python",
   "nbconvert_exporter": "python",
   "pygments_lexer": "ipython3",
   "version": "3.7.7"
  }
 },
 "nbformat": 4,
 "nbformat_minor": 4
}
