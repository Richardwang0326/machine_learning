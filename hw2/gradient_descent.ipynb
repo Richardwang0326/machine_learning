{
 "cells": [
  {
   "cell_type": "code",
   "execution_count": 1,
   "metadata": {},
   "outputs": [],
   "source": [
    "# library\n",
    "import numpy as np\n",
    "import csv\n",
    "import matplotlib.pyplot as plt\n",
    "\n",
    "\n",
    "def loading_data():\n",
    "    lnchprg = []\n",
    "    math10 = []\n",
    "    lexpend = []\n",
    "\n",
    "    # load needed data\n",
    "    with open('MEAP93.csv', newline = '') as csvfile:\n",
    "    \n",
    "        # stored as dict\n",
    "        rows = csv.DictReader(csvfile)\n",
    "    \n",
    "        # load required data\n",
    "        for row in rows:\n",
    "            lnchprg.append((float)(row['lnchprg']))\n",
    "            math10.append((float)(row['math10']))\n",
    "            lexpend.append((float)(row['lexpend']))\n",
    "            \n",
    "    # setting initial data\n",
    "    y = (np.array(math10)).reshape(-1, 1)\n",
    "    x = np.zeros((len(lnchprg),3))\n",
    "    for i in range(len(lnchprg)):\n",
    "        x[i,0] = 1\n",
    "        x[i,1] = lexpend[i]\n",
    "        x[i,2] = lnchprg[i]\n",
    "\n",
    "    return x, y"
   ]
  },
  {
   "cell_type": "code",
   "execution_count": 2,
   "metadata": {},
   "outputs": [],
   "source": [
    "def train(x, y, estimated, learning_rate, error):\n",
    "    \n",
    "    # setting parameter\n",
    "    k=0\n",
    "    error_initial = 1\n",
    "    sse = 0\n",
    "    \n",
    "    # if error converges, stop renew weight\n",
    "    while (error_initial > error):\n",
    "        \n",
    "        # iteration \n",
    "        k += 1 \n",
    "        \n",
    "        # calculate predict value\n",
    "        y_predicted = np.dot(x, estimated)\n",
    "        \n",
    "        # calculate gradient\n",
    "        out_error = y_predicted - y\n",
    "        gradients = 2 * np.dot(x.T, out_error) \n",
    "        \n",
    "        # renew weight\n",
    "        origin = estimated\n",
    "        estimated = estimated - gradients * learning_rate\n",
    "        \n",
    "        # calculate sse and error\n",
    "        sse = np.sum(out_error ** 2, axis = 0)\n",
    "        error_initial = np.sqrt(np.sum((origin-estimated)**2, axis = 0))\n",
    "        \n",
    "    return estimated, k, sse"
   ]
  },
  {
   "cell_type": "code",
   "execution_count": 3,
   "metadata": {},
   "outputs": [
    {
     "name": "stdout",
     "output_type": "stream",
     "text": [
      "(a) k=20962, sse=93413.0895 \n",
      "\n",
      "[[0.99477581]\n",
      " [0.95724865]\n",
      " [0.54140001]]\n",
      "\n",
      "(b) k=386, sse=inf\n",
      "\n",
      "[[inf]\n",
      " [inf]\n",
      " [nan]]\n"
     ]
    },
    {
     "name": "stderr",
     "output_type": "stream",
     "text": [
      "C:\\Users\\hyfil\\anaconda3\\envs\\machine_learning\\lib\\site-packages\\numpy\\core\\fromnumeric.py:90: RuntimeWarning: overflow encountered in reduce\n",
      "  return ufunc.reduce(obj, axis, dtype, out, **passkwargs)\n",
      "C:\\Users\\hyfil\\anaconda3\\envs\\machine_learning\\lib\\site-packages\\ipykernel_launcher.py:26: RuntimeWarning: overflow encountered in square\n",
      "C:\\Users\\hyfil\\anaconda3\\envs\\machine_learning\\lib\\site-packages\\ipykernel_launcher.py:27: RuntimeWarning: overflow encountered in square\n",
      "C:\\Users\\hyfil\\anaconda3\\envs\\machine_learning\\lib\\site-packages\\ipykernel_launcher.py:19: RuntimeWarning: overflow encountered in multiply\n",
      "C:\\Users\\hyfil\\anaconda3\\envs\\machine_learning\\lib\\site-packages\\ipykernel_launcher.py:23: RuntimeWarning: invalid value encountered in subtract\n",
      "C:\\Users\\hyfil\\anaconda3\\envs\\machine_learning\\lib\\site-packages\\ipykernel_launcher.py:9: RuntimeWarning: invalid value encountered in greater\n",
      "  if __name__ == '__main__':\n"
     ]
    }
   ],
   "source": [
    "if __name__==\"__main__\":\n",
    "    \n",
    "    # loading data\n",
    "    x_actual, y_actual = loading_data()\n",
    "    \n",
    "    # setting parameter\n",
    "    initial_value = np.array([1,1,1],dtype = float).reshape(-1,1)\n",
    "    learning_rate_a =  1 * 10 ** (-10)\n",
    "    learning_rate_b = 1 * 10 ** (-5)\n",
    "    tolerance = 1 * 10 ** (-5)\n",
    "    \n",
    "    # training\n",
    "    x_a, k_a, sse_a = train(x_actual, y_actual, initial_value, learning_rate_a, tolerance)\n",
    "    x_b, k_b, sse_b = train(x_actual, y_actual, initial_value, learning_rate_b, tolerance)\n",
    "    print(\"(a) k=%d, sse=%.4f \\n\" %(k_a, sse_a))\n",
    "    print(x_a)\n",
    "    print(\"\\n(b) k=%d, sse=%.4f\\n\" %(k_b, sse_b))\n",
    "    print(x_b)"
   ]
  },
  {
   "cell_type": "code",
   "execution_count": null,
   "metadata": {},
   "outputs": [],
   "source": []
  }
 ],
 "metadata": {
  "kernelspec": {
   "display_name": "Python [conda env:machine_learning]",
   "language": "python",
   "name": "conda-env-machine_learning-py"
  },
  "language_info": {
   "codemirror_mode": {
    "name": "ipython",
    "version": 3
   },
   "file_extension": ".py",
   "mimetype": "text/x-python",
   "name": "python",
   "nbconvert_exporter": "python",
   "pygments_lexer": "ipython3",
   "version": "3.7.7"
  }
 },
 "nbformat": 4,
 "nbformat_minor": 4
}
